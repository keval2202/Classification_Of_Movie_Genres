{
 "cells": [
  {
   "cell_type": "markdown",
   "metadata": {},
   "source": [
    " "
   ]
  },
  {
   "cell_type": "markdown",
   "metadata": {},
   "source": [
    "<h1 align='center' style=\\\"margin-bottom: 0px\\\"> Multi-Modal Genre Classification for Movies </h1>\n",
    "<h2 align='center' style=\\\"margin-top: 0px\\\"> INFO 7390 Advances in Data Science and Architecture</h2>\n",
    "<h4 align='center' style=\\\"margin-top: 0px\\\"> DEEP BHALODIA &nbsp; &nbsp;&nbsp; KEVAL SHAH &nbsp;&nbsp;&nbsp; PALASH BHIVGADE</h4>                             "
   ]
  },
  {
   "cell_type": "markdown",
   "metadata": {},
   "source": [
    "# Overview"
   ]
  },
  {
   "cell_type": "markdown",
   "metadata": {},
   "source": [
    "### Project Outline\n",
    "\n",
    "\n",
    "\n",
    "* Scraping a dataset : The first step is to build a rich data set. We will collect textual and visual data for each movie\n",
    "* Data pre-processing\n",
    "* Non-deep Machine Learning models for Text\n",
    "* Deep Models for Visual Data\n",
    "* Deep Models for Text"
   ]
  },
  {
   "cell_type": "markdown",
   "metadata": {},
   "source": [
    "#### What do we really mean?"
   ]
  },
  {
   "cell_type": "markdown",
   "metadata": {},
   "source": [
    " * Our task is to use available data to learn a function which can assign a category to a data point. For example, assign a genre to a movie, like \"Romantic Comedy\", \"Action\", \"Thriller\".\n",
    " * In machine learning community, the term Multi-Modal is used to refer to multiple kinds of data.\n",
    " * For this project, we will be using visual and textual data to classify movie genres.\n"
   ]
  },
  {
   "cell_type": "markdown",
   "metadata": {},
   "source": [
    "## Section 1. Building our DataSet.\n"
   ]
  },
  {
   "cell_type": "markdown",
   "metadata": {},
   "source": [
    "### We will be scrapping Data from two sources\n",
    "\n",
    "#### IMDB:http://www.imdb.com/\n",
    "* For those unaware, IMDB is the primary source of information about movies on the internet. It is immensely rich with posters, reviews, synopsis, ratings and many other information on every movie. We will use this as our primary data source.\n",
    "\n",
    "#### TMDB:https://www.themoviedb.org/\n",
    "* TMDB, or The Movie DataBase, is an open source version of IMDB, with a free to use API that can be used to collect information. You do need an API key, but it can be obtained for free by just making a request after making a free account."
   ]
  },
  {
   "cell_type": "code",
   "execution_count": 118,
   "metadata": {
    "collapsed": true
   },
   "outputs": [],
   "source": [
    "%matplotlib inline\n",
    "from urllib.request import urlopen\n",
    "import urllib3\n",
    "import requests\n",
    "import json\n",
    "from imdb import IMDb\n",
    "import time\n",
    "import itertools\n",
    "import wget\n",
    "import os\n",
    "import os.path\n",
    "import tmdbsimple as tmdb\n",
    "import numpy as np\n",
    "import random\n",
    "import matplotlib\n",
    "import matplotlib.pyplot as plt\n",
    "import seaborn as sns\n",
    "import pickle\n",
    "from sklearn.cluster import SpectralCoclustering\n"
   ]
  },
  {
   "cell_type": "code",
   "execution_count": 119,
   "metadata": {},
   "outputs": [
    {
     "name": "stdout",
     "output_type": "stream",
     "text": [
      "Folder already exists\n"
     ]
    }
   ],
   "source": [
    "#setting the path for the scraped folders to be saved\n",
    "poster_folder='posters_final/'\n",
    "if poster_folder.split('/')[0] in os.listdir('./'):\n",
    "    print('Folder already exists')\n",
    "else:\n",
    "    os.mkdir('./'+poster_folder)\n"
   ]
  },
  {
   "cell_type": "code",
   "execution_count": 120,
   "metadata": {
    "collapsed": true
   },
   "outputs": [],
   "source": [
    "api_key = '4ac92516d1a26e9b27ca010eeaf1d958'\n",
    "tmdb.API_KEY = api_key \n",
    "search = tmdb.Search()"
   ]
  },
  {
   "cell_type": "code",
   "execution_count": 121,
   "metadata": {
    "collapsed": true
   },
   "outputs": [],
   "source": [
    "#Functions that take in a movie and return ID, Genre, info and Posters\n",
    "def get_poster(movie):\n",
    "    response = search.movie(query=movie)\n",
    "    id=response['results'][0]['id']\n",
    "    movie = tmdb.Movies(id)\n",
    "    posterpath=movie.info()['poster_path']\n",
    "    title=movie.info()['original_title']\n",
    "    url='http://image.tmdb.org/t/p/original'+posterpath\n",
    "    title='_'.join(title.split(' '))\n",
    "    r = requests.get(url)\n",
    "    completeName = os.path.join(poster_folder, title) \n",
    "    with open(completeName,'wb') as w:\n",
    "        w.write(r.content)\n",
    "\n",
    "def getmovie_id(movie):\n",
    "    resp= search.movie(query=movie)\n",
    "    movie_id=resp['results'][0]['id']\n",
    "    return movie_id\n",
    "\n",
    "def getmovie_info(movie):\n",
    "    resp= search.movie(query=movie)\n",
    "    id=resp['results'][0]['id']\n",
    "    movie = tmdb.Movies(id)\n",
    "    info=movie.info()\n",
    "    return info\n",
    "\n",
    "def getmovie_genre(movie):\n",
    "    resp = search.movie(query=movie)\n",
    "    id=resp['results'][0]['id']\n",
    "    movie = tmdb.Movies(id)\n",
    "    genres=movie.info()['genres']\n",
    "    return genres"
   ]
  },
  {
   "cell_type": "code",
   "execution_count": 122,
   "metadata": {},
   "outputs": [
    {
     "name": "stdout",
     "output_type": "stream",
     "text": [
      "[{'id': 28, 'name': 'Action'}, {'id': 18, 'name': 'Drama'}, {'id': 878, 'name': 'Science Fiction'}]\n"
     ]
    }
   ],
   "source": [
    "print (getmovie_genre(\"Logan\"))"
   ]
  },
  {
   "cell_type": "code",
   "execution_count": 123,
   "metadata": {},
   "outputs": [
    {
     "name": "stdout",
     "output_type": "stream",
     "text": [
      "{'adult': False, 'backdrop_path': '/6aUWe0GSl69wMTSWWexsorMIvwU.jpg', 'belongs_to_collection': None, 'budget': 160000000, 'genres': [{'id': 10751, 'name': 'Family'}, {'id': 14, 'name': 'Fantasy'}, {'id': 10749, 'name': 'Romance'}], 'homepage': 'http://movies.disney.com/beauty-and-the-beast-2017', 'id': 321612, 'imdb_id': 'tt2771200', 'original_language': 'en', 'original_title': 'Beauty and the Beast', 'overview': \"A live-action adaptation of Disney's version of the classic tale of a cursed prince and a beautiful young woman who helps him break the spell.\", 'popularity': 132.065596, 'poster_path': '/tWqifoYuwLETmmasnGHO7xBjEtt.jpg', 'production_companies': [{'id': 2, 'logo_path': '/wszlOmgJykJXULYfuusu3Kxala4.png', 'name': 'Walt Disney Pictures', 'origin_country': 'US'}, {'id': 10227, 'logo_path': None, 'name': 'Mandeville Films', 'origin_country': ''}], 'production_countries': [{'iso_3166_1': 'US', 'name': 'United States of America'}], 'release_date': '2017-03-16', 'revenue': 1263521126, 'runtime': 129, 'spoken_languages': [{'iso_639_1': 'id', 'name': 'Bahasa indonesia'}], 'status': 'Released', 'tagline': 'Be our guest.', 'title': 'Beauty and the Beast', 'video': False, 'vote_average': 6.8, 'vote_count': 7657}\n"
     ]
    }
   ],
   "source": [
    "print (getmovie_info(\"Beauty and the Beast\"))"
   ]
  },
  {
   "cell_type": "code",
   "execution_count": 124,
   "metadata": {},
   "outputs": [
    {
     "name": "stdout",
     "output_type": "stream",
     "text": [
      "All the Movie information gets stored in a dictionary with the keys for easy access -\n"
     ]
    },
    {
     "data": {
      "text/plain": [
       "dict_keys(['adult', 'backdrop_path', 'belongs_to_collection', 'budget', 'genres', 'homepage', 'id', 'imdb_id', 'original_language', 'original_title', 'overview', 'popularity', 'poster_path', 'production_companies', 'production_countries', 'release_date', 'revenue', 'runtime', 'spoken_languages', 'status', 'tagline', 'title', 'video', 'vote_average', 'vote_count'])"
      ]
     },
     "execution_count": 124,
     "metadata": {},
     "output_type": "execute_result"
    }
   ],
   "source": [
    "info=getmovie_info(\"The Matrix\")\n",
    "print (\"All the Movie information gets stored in a dictionary with the keys for easy access -\")\n",
    "info.keys()"
   ]
  },
  {
   "cell_type": "code",
   "execution_count": 125,
   "metadata": {},
   "outputs": [
    {
     "name": "stdout",
     "output_type": "stream",
     "text": [
      "Welcome to the Real World.\n"
     ]
    }
   ],
   "source": [
    "print (info['tagline'])"
   ]
  },
  {
   "cell_type": "code",
   "execution_count": 126,
   "metadata": {
    "collapsed": true
   },
   "outputs": [],
   "source": [
    "#To create a dictionary of all the possible genres\n",
    "genres=tmdb.Genres()\n",
    "list_of_genres=genres.movie_list()\n",
    "\n",
    "x=list_of_genres['genres']\n",
    "Genre_ID_to_name={}\n",
    "for i in range(len(x)):\n",
    "    genre_id=x[i]['id']\n",
    "    movie_genre_name=x[i]['name']\n",
    "    Genre_ID_to_name[genre_id]=movie_genre_name"
   ]
  },
  {
   "cell_type": "code",
   "execution_count": 10,
   "metadata": {},
   "outputs": [
    {
     "name": "stdout",
     "output_type": "stream",
     "text": [
      "Starting pulling movies from TMDB. This will take a while, please wait...\n",
      "Pulled movies for genres - 28,12,16,35,80,99,18,10751,14,36,27,10402,9648,10749,878,10770,53,10752,37\n"
     ]
    }
   ],
   "source": [
    "movies = []\n",
    "baseyear = 2017\n",
    "\n",
    "print('Started pulling movies..')\n",
    "done_movies_ids=[]\n",
    "for id in Genre_ID_to_name:\n",
    "    baseyear -= 1\n",
    "    for page in range(1,6,1):\n",
    "        time.sleep(0.5)\n",
    "    \n",
    "        url = 'https://api.themoviedb.org/3/discover/movie?api_key=' + api_key\n",
    "        url += '&language=en-US&sort_by=popularity.desc&year=' + str(baseyear) \n",
    "        url += '&with_genres=' + str(id) + '&page=' + str(page)\n",
    "\n",
    "        f=urlopen(url) \n",
    "        data = f.read()\n",
    "\n",
    "        dataDict = json.loads(data)\n",
    "        movies.extend(dataDict[\"results\"])\n",
    "    done_movies_ids.append(str(id))\n",
    "print(\"Pulled movies for genres - \"+','.join(done_movies_ids))\n"
   ]
  },
  {
   "cell_type": "code",
   "execution_count": 11,
   "metadata": {
    "collapsed": true
   },
   "outputs": [],
   "source": [
    "file=open(\"movies_\",'wb')\n",
    "pickle.dump(movies,file)\n",
    "file.close()"
   ]
  },
  {
   "cell_type": "code",
   "execution_count": 127,
   "metadata": {
    "collapsed": true
   },
   "outputs": [],
   "source": [
    "file=open(\"movies_\",'rb')\n",
    "movies=pickle.load(file)\n",
    "file.close()"
   ]
  },
  {
   "cell_type": "code",
   "execution_count": 128,
   "metadata": {
    "collapsed": true
   },
   "outputs": [],
   "source": [
    "# This function just generates all possible pairs of movies\n",
    "def pairs(l):\n",
    "    pairs = list(itertools.combinations(l, 2))\n",
    "    for i in l:\n",
    "        pairs.append([i,i])\n",
    "    return pairs\n"
   ]
  },
  {
   "cell_type": "code",
   "execution_count": 129,
   "metadata": {},
   "outputs": [
    {
     "name": "stdout",
     "output_type": "stream",
     "text": [
      "(20, 20)\n",
      "19\n"
     ]
    }
   ],
   "source": [
    "all_pairs = []\n",
    "for movie in movies:\n",
    "    all_pairs.extend(pairs(movie['genre_ids']))\n",
    "    \n",
    "unique_pairs = np.unique(all_pairs)\n",
    "movie_Grid = np.zeros((len(unique_pairs), len(unique_pairs)))\n",
    "for p in all_pairs:\n",
    "    movie_Grid[np.argwhere(unique_pairs==p[0]), np.argwhere(unique_pairs==p[1])]+=1\n",
    "    if p[1] != p[0]:\n",
    "        movie_Grid[np.argwhere(unique_pairs==p[1]), np.argwhere(unique_pairs==p[0])]+=1\n",
    "        \n",
    "\n",
    "print (movie_Grid.shape)\n",
    "print (len(Genre_ID_to_name.keys()))"
   ]
  },
  {
   "cell_type": "code",
   "execution_count": 130,
   "metadata": {},
   "outputs": [
    {
     "name": "stdout",
     "output_type": "stream",
     "text": [
      "10769\n"
     ]
    }
   ],
   "source": [
    "for i in (unique_pairs):\n",
    "    if i not in Genre_ID_to_name.keys():\n",
    "        print (i)\n"
   ]
  },
  {
   "cell_type": "code",
   "execution_count": 131,
   "metadata": {},
   "outputs": [
    {
     "data": {
      "text/plain": [
       "20"
      ]
     },
     "execution_count": 131,
     "metadata": {},
     "output_type": "execute_result"
    }
   ],
   "source": [
    "Genre_ID_to_name[10769]=\"Foreign\" \n",
    "\n",
    "len(Genre_ID_to_name.keys())\n"
   ]
  },
  {
   "cell_type": "code",
   "execution_count": 112,
   "metadata": {},
   "outputs": [
    {
     "data": {
      "text/plain": [
       "<matplotlib.axes._subplots.AxesSubplot at 0x1173dd0b8>"
      ]
     },
     "execution_count": 112,
     "metadata": {},
     "output_type": "execute_result"
    },
    {
     "data": {
      "image/png": "[encoded data removed]",
      "text/plain": [
       "<matplotlib.figure.Figure at 0x1170de748>"
      ]
     },
     "metadata": {},
     "output_type": "display_data"
    }
   ],
   "source": [
    "lookup = []\n",
    "for i in range(len(nr_movies_ids)):\n",
    "    lookup.append(Genre_ID_to_name[nr_movies_ids[i]])\n",
    "\n",
    "sns.heatmap(movie_Grid, xticklabels=lookup, yticklabels=lookup)\n"
   ]
  },
  {
   "cell_type": "code",
   "execution_count": 132,
   "metadata": {},
   "outputs": [
    {
     "name": "stdout",
     "output_type": "stream",
     "text": [
      "originally we had  1759  movies\n",
      "1688\n",
      "After removing duplicates we have  1688  movies\n"
     ]
    }
   ],
   "source": [
    "movie_ids = [m['id'] for m in movies]\n",
    "print (\"originally we had \",len(movie_ids),\" movies\")\n",
    "movie_ids=np.unique(movie_ids)\n",
    "print (len(movie_ids))\n",
    "seen_before=[]\n",
    "no_duplicate_movies=[]\n",
    "for i in range(len(movies)):\n",
    "    movie=movies[i]\n",
    "    id=movie['id']\n",
    "    if id in seen_before:\n",
    "        continue\n",
    "    else:\n",
    "        seen_before.append(id)\n",
    "        no_duplicate_movies.append(movie)\n",
    "print (\"After removing duplicates we have \",len(no_duplicate_movies), \" movies\")\n"
   ]
  },
  {
   "cell_type": "code",
   "execution_count": 18,
   "metadata": {
    "collapsed": true
   },
   "outputs": [],
   "source": [
    "file=open(\"movies_final\",'wb')\n",
    "pickle.dump(no_duplicate_movies,file)\n",
    "file.close()"
   ]
  },
  {
   "cell_type": "code",
   "execution_count": 21,
   "metadata": {
    "collapsed": true
   },
   "outputs": [],
   "source": [
    "#file=open(\"movies_final\",'rb')\n",
    "#movies=pickle.load(file)\n",
    "#file.close()"
   ]
  },
  {
   "cell_type": "code",
   "execution_count": null,
   "metadata": {},
   "outputs": [],
   "source": [
    "poster_movies=[]\n",
    "counter=0\n",
    "movies_no_poster=[]\n",
    "print(\"Total movies : \",len(no_duplicate_movies))\n",
    "print(\"Started downloading posters...\")\n",
    "for movie in no_duplicate_movies:\n",
    "    id=movie['id']\n",
    "    title=movie['title']\n",
    "    if counter==1:\n",
    "        print('Downloaded first!')\n",
    "    if counter%300==0 and counter!=0:\n",
    "        print (\"Done with \",counter,\" movies!\")\n",
    "        print (\"Trying to get poster for \",title)\n",
    "    try:\n",
    "        get_poster_tmdb(title)\n",
    "        poster_movies.append(movie)\n",
    "    except:\n",
    "        try:\n",
    "            time.sleep(7)\n",
    "            get_poster(title)\n",
    "            poster_movies.append(movie)\n",
    "        except:\n",
    "            movies_no_poster.append(movie)\n",
    "    counter+=1\n",
    "print(\"Done with all the posters!\")\n",
    "\n",
    "\n",
    "f=open('poster_movies.pckl','wb')\n",
    "pickle.dump(poster_movies,f)\n",
    "f.close()\n",
    "\n",
    "f=open('no_poster_movies.pckl','wb')\n",
    "pickle.dump(movies_no_poster,f)\n",
    "f.close()"
   ]
  },
  {
   "cell_type": "code",
   "execution_count": 133,
   "metadata": {
    "collapsed": true
   },
   "outputs": [],
   "source": [
    "g=open('poster_movies.pckl','rb')\n",
    "poster_movies=pickle.load(g)\n",
    "g.close()\n",
    "\n",
    "f=open('no_poster_movies.pckl','rb')\n",
    "movies_no_poster=pickle.load(f)\n",
    "f.close()"
   ]
  },
  {
   "cell_type": "code",
   "execution_count": 134,
   "metadata": {},
   "outputs": [
    {
     "data": {
      "text/plain": [
       "1645"
      ]
     },
     "execution_count": 134,
     "metadata": {},
     "output_type": "execute_result"
    }
   ],
   "source": [
    "movies_with_overviews=[]\n",
    "for i in range(len(poster_movies)):\n",
    "    movie=poster_movies[i]\n",
    "    id=movie['id']\n",
    "    overview=movie['overview']\n",
    "    \n",
    "    if len(overview)==0:\n",
    "        continue\n",
    "    else:\n",
    "        movies_with_overviews.append(movie)\n",
    "        \n",
    "len(movies_with_overviews)"
   ]
  },
  {
   "cell_type": "code",
   "execution_count": 135,
   "metadata": {
    "collapsed": true
   },
   "outputs": [],
   "source": [
    "genres_n=[]\n",
    "all_ids=[]\n",
    "for i in range(len(movies_with_overviews)):\n",
    "    movie=movies_with_overviews[i]\n",
    "    id=movie['id']\n",
    "    genre_ids=movie['genre_ids']\n",
    "    genres_n.append(genre_ids)\n",
    "    all_ids.extend(genre_ids)\n",
    "    "
   ]
  },
  {
   "cell_type": "code",
   "execution_count": 136,
   "metadata": {},
   "outputs": [
    {
     "name": "stdout",
     "output_type": "stream",
     "text": [
      "(1645, 20)\n",
      "[364 247 232 674 206 412 444 132  24 442 239 139 246 202 130 252 282  85\n",
      "  12 105]\n"
     ]
    }
   ],
   "source": [
    "from sklearn.preprocessing import MultiLabelBinarizer\n",
    "mlb=MultiLabelBinarizer()\n",
    "Y=mlb.fit_transform(genres_n)\n",
    "\n",
    "print (Y.shape)\n",
    "print (np.sum(Y, axis=0))\n"
   ]
  },
  {
   "cell_type": "code",
   "execution_count": 137,
   "metadata": {
    "collapsed": true
   },
   "outputs": [],
   "source": [
    "from sklearn.feature_extraction.text import CountVectorizer\n",
    "\n",
    "\n",
    "movie_content=[]\n",
    "for i in range(len(movies_with_overviews)):\n",
    "    movie=movies_with_overviews[i]\n",
    "    id=movie['id']\n",
    "    overview=movie['overview']\n",
    "    overview=overview.replace(',','')\n",
    "    overview=overview.replace('.','')\n",
    "    movie_content.append(overview)\n",
    "    \n",
    "    \n"
   ]
  },
  {
   "cell_type": "code",
   "execution_count": 138,
   "metadata": {},
   "outputs": [
    {
     "name": "stdout",
     "output_type": "stream",
     "text": [
      "The overview for the movie Captain America: Civil War  is - \n",
      "\n",
      "\n",
      "Following the events of Age of Ultron, the collective governments of the world pass an act designed to regulate all superhuman activity. This polarizes opinion amongst the Avengers, causing two factions to side with Iron Man or Captain America, which causes an epic battle between former allies.\n"
     ]
    }
   ],
   "source": [
    "sample_movie=movies_with_overviews[5]\n",
    "sample_overview=sample_movie['overview']\n",
    "sample_title=sample_movie['title']\n",
    "print (\"The overview for the movie\",sample_title,\" is - \\n\\n\")\n",
    "print (sample_overview)"
   ]
  },
  {
   "cell_type": "code",
   "execution_count": 139,
   "metadata": {},
   "outputs": [
    {
     "name": "stdout",
     "output_type": "stream",
     "text": [
      "A young street magician is left to take care of his little sister after his mother's passing and turns to drug dealing in the Los Angeles party scene to keep a roof over their heads When he gets into trouble with his supplier his sister is kidnapped and he is forced to rely on both his sleight of hand and brilliant mind to save her\n",
      "1645\n"
     ]
    }
   ],
   "source": [
    "print (movie_content[0])\n",
    "print (len(movie_content))"
   ]
  },
  {
   "cell_type": "code",
   "execution_count": 140,
   "metadata": {
    "collapsed": true
   },
   "outputs": [],
   "source": [
    "vectorize=CountVectorizer(max_df=0.95, min_df=0.005)\n",
    "X=vectorize.fit_transform(movie_content)\n"
   ]
  },
  {
   "cell_type": "code",
   "execution_count": 141,
   "metadata": {},
   "outputs": [
    {
     "data": {
      "text/plain": [
       "(1645, 1228)"
      ]
     },
     "execution_count": 141,
     "metadata": {},
     "output_type": "execute_result"
    }
   ],
   "source": [
    "X.shape"
   ]
  },
  {
   "cell_type": "code",
   "execution_count": 142,
   "metadata": {
    "collapsed": true
   },
   "outputs": [],
   "source": [
    "f4=open('X.pckl','wb')\n",
    "f5=open('Y.pckl','wb')\n",
    "f6=open('Genredict.pckl','wb')\n",
    "pickle.dump(X,f4)\n",
    "pickle.dump(Y,f5)\n",
    "pickle.dump(Genre_ID_to_name,f6)\n",
    "f4.close()\n",
    "f5.close()\n",
    "f6.close()"
   ]
  },
  {
   "cell_type": "code",
   "execution_count": 143,
   "metadata": {},
   "outputs": [
    {
     "data": {
      "text/plain": [
       "(1645, 1228)"
      ]
     },
     "execution_count": 143,
     "metadata": {},
     "output_type": "execute_result"
    }
   ],
   "source": [
    "from sklearn.feature_extraction.text import TfidfTransformer\n",
    "tfidf_transformer = TfidfTransformer()\n",
    "X_tfidf = tfidf_transformer.fit_transform(X)\n",
    "X_tfidf.shape"
   ]
  },
  {
   "cell_type": "code",
   "execution_count": 144,
   "metadata": {
    "collapsed": true
   },
   "outputs": [],
   "source": [
    "msk = np.random.rand(X_tfidf.shape[0]) < 0.8\n",
    "\n",
    "X_train_tfidf=X_tfidf[msk]\n",
    "X_test_tfidf=X_tfidf[~msk]\n",
    "Y_train=Y[msk]\n",
    "Y_test=Y[~msk]\n",
    "positions=range(len(movies_with_overviews))\n",
    "# print positions\n",
    "test_movies=np.asarray(positions)[~msk]\n",
    "# test_movies"
   ]
  },
  {
   "cell_type": "code",
   "execution_count": 145,
   "metadata": {
    "collapsed": true
   },
   "outputs": [],
   "source": [
    "from sklearn.multiclass import OneVsRestClassifier\n",
    "from sklearn.svm import SVC\n",
    "from sklearn.model_selection import GridSearchCV\n",
    "from sklearn.metrics import f1_score\n",
    "from sklearn.metrics import make_scorer\n",
    "from sklearn.metrics import classification_report"
   ]
  },
  {
   "cell_type": "code",
   "execution_count": 146,
   "metadata": {},
   "outputs": [
    {
     "data": {
      "text/plain": [
       "OneVsRestClassifier(estimator=GridSearchCV(cv=None, error_score='raise',\n",
       "       estimator=SVC(C=1.0, cache_size=200, class_weight='balanced', coef0=0.0,\n",
       "  decision_function_shape='ovr', degree=3, gamma='auto', kernel='rbf',\n",
       "  max_iter=-1, probability=False, random_state=None, shrinking=True,\n",
       "  tol=0.001, verbose=False)...fit=True, return_train_score='warn',\n",
       "       scoring=make_scorer(f1_score, average=micro), verbose=0),\n",
       "          n_jobs=1)"
      ]
     },
     "execution_count": 146,
     "metadata": {},
     "output_type": "execute_result"
    }
   ],
   "source": [
    "parameters = {'kernel':['linear'], 'C':[0.01, 0.1, 1.0]}\n",
    "gridCV = GridSearchCV(SVC(class_weight='balanced'), parameters, scoring=make_scorer(f1_score, average='micro'))\n",
    "classif = OneVsRestClassifier(gridCV)\n",
    "\n",
    "classif.fit(X_train_tfidf, Y_train)"
   ]
  },
  {
   "cell_type": "code",
   "execution_count": 147,
   "metadata": {},
   "outputs": [
    {
     "name": "stdout",
     "output_type": "stream",
     "text": [
      "dict_values(['Action', 'Adventure', 'Animation', 'Comedy', 'Crime', 'Documentary', 'Drama', 'Family', 'Fantasy', 'History', 'Horror', 'Music', 'Mystery', 'Romance', 'Science Fiction', 'TV Movie', 'Thriller', 'War', 'Western', 'Foreign'])\n"
     ]
    }
   ],
   "source": [
    "genre_names = Genre_ID_to_name.values()\n",
    "print(genre_names)"
   ]
  },
  {
   "cell_type": "code",
   "execution_count": 148,
   "metadata": {},
   "outputs": [
    {
     "name": "stdout",
     "output_type": "stream",
     "text": [
      "                 precision    recall  f1-score   support\n",
      "\n",
      "         Action       0.45      0.64      0.53        69\n",
      "      Adventure       0.29      0.49      0.36        41\n",
      "      Animation       0.38      0.49      0.43        43\n",
      "         Comedy       0.56      0.61      0.59       137\n",
      "          Crime       0.37      0.44      0.40        43\n",
      "    Documentary       0.43      0.59      0.50        74\n",
      "          Drama       0.40      0.56      0.47        77\n",
      "         Family       0.36      0.35      0.36        34\n",
      "        Fantasy       0.50      0.33      0.40         6\n",
      "        History       0.50      0.58      0.54        89\n",
      "         Horror       0.32      0.50      0.39        40\n",
      "          Music       0.57      0.62      0.60        32\n",
      "        Mystery       0.70      0.43      0.54        44\n",
      "        Romance       0.42      0.60      0.49        42\n",
      "Science Fiction       0.89      0.59      0.71        27\n",
      "       TV Movie       0.45      0.58      0.51        52\n",
      "       Thriller       0.00      0.00      0.00        51\n",
      "            War       0.00      0.00      0.00        19\n",
      "        Western       0.00      0.00      0.00         0\n",
      "        Foreign       0.00      0.00      0.00        27\n",
      "\n",
      "    avg / total       0.42      0.50      0.45       947\n",
      "\n"
     ]
    },
    {
     "name": "stderr",
     "output_type": "stream",
     "text": [
      "/Users/deep/anaconda3/lib/python3.6/site-packages/sklearn/metrics/classification.py:1135: UndefinedMetricWarning: Precision and F-score are ill-defined and being set to 0.0 in labels with no predicted samples.\n",
      "  'precision', 'predicted', average, warn_for)\n",
      "/Users/deep/anaconda3/lib/python3.6/site-packages/sklearn/metrics/classification.py:1137: UndefinedMetricWarning: Recall and F-score are ill-defined and being set to 0.0 in labels with no true samples.\n",
      "  'recall', 'true', average, warn_for)\n"
     ]
    }
   ],
   "source": [
    "predstfidf=classif.predict(X_test_tfidf)\n",
    "\n",
    "print (classification_report(Y_test, predstfidf, target_names=genre_names))"
   ]
  },
  {
   "cell_type": "code",
   "execution_count": 149,
   "metadata": {
    "collapsed": true
   },
   "outputs": [],
   "source": [
    "f=open('classifer_svc','wb')\n",
    "pickle.dump(classif,f)\n",
    "f.close()"
   ]
  },
  {
   "cell_type": "code",
   "execution_count": 150,
   "metadata": {
    "collapsed": true
   },
   "outputs": [],
   "source": [
    "genre_list=sorted(list(Genre_ID_to_name.keys()))"
   ]
  },
  {
   "cell_type": "code",
   "execution_count": 151,
   "metadata": {
    "collapsed": true
   },
   "outputs": [],
   "source": [
    "movie_predictions=[]\n",
    "for i in range(X_test_tfidf.shape[0]):\n",
    "    pred_genres=[]\n",
    "    movie_label_scores=predstfidf[i]\n",
    "#     print movie_label_scores\n",
    "    for j in range(20):\n",
    "        #print j\n",
    "        if movie_label_scores[j]!=0:\n",
    "            genre=Genre_ID_to_name[genre_list[j]]\n",
    "            pred_genres.append(genre)\n",
    "    movie_predictions.append(pred_genres)"
   ]
  },
  {
   "cell_type": "code",
   "execution_count": 152,
   "metadata": {},
   "outputs": [
    {
     "name": "stdout",
     "output_type": "stream",
     "text": [
      "MOVIE:  Mythica: The Godslayer \tPREDICTION:  Adventure,Fantasy,Drama,Action,Romance\n",
      "MOVIE:  Terminator Genisys \tPREDICTION:  Documentary\n",
      "MOVIE:  Asterix: The Mansions of the Gods \tPREDICTION:  Adventure,Drama,Mystery\n",
      "MOVIE:  The Garden of Words \tPREDICTION:  Drama,Horror,Comedy\n",
      "MOVIE:  Star Wars Rebels: Spark of Rebellion \tPREDICTION:  Drama,Crime,Mystery,Romance\n",
      "MOVIE:  EuroTrip \tPREDICTION:  Adventure,Drama,Thriller\n"
     ]
    }
   ],
   "source": [
    "for i in range(X_test_tfidf.shape[0]):\n",
    "    if i%50==0 and i!=0:\n",
    "        print ('MOVIE: ',movies_with_overviews[i]['title'],'\\tPREDICTION: ',','.join(movie_predictions[i]))"
   ]
  },
  {
   "cell_type": "markdown",
   "metadata": {},
   "source": [
    "### Naive Bayes"
   ]
  },
  {
   "cell_type": "code",
   "execution_count": 153,
   "metadata": {
    "collapsed": true
   },
   "outputs": [],
   "source": [
    "from sklearn.naive_bayes import MultinomialNB\n",
    "classifnb = OneVsRestClassifier(MultinomialNB())\n",
    "classifnb.fit(X[msk].toarray(), Y_train)\n",
    "predsnb=classifnb.predict(X[~msk].toarray())\n"
   ]
  },
  {
   "cell_type": "code",
   "execution_count": 160,
   "metadata": {
    "collapsed": true
   },
   "outputs": [],
   "source": [
    "f2=open('classifer_nb','wb')\n",
    "pickle.dump(classifnb,f2)\n",
    "f2.close()"
   ]
  },
  {
   "cell_type": "code",
   "execution_count": 155,
   "metadata": {
    "collapsed": true
   },
   "outputs": [],
   "source": [
    "predictionsnb=[]\n",
    "for i in range(X_test_tfidf.shape[0]):\n",
    "    pred_genres=[]\n",
    "    movie_label_scores=predsnb[i]\n",
    "    for j in range(20):\n",
    "        #print j\n",
    "        if movie_label_scores[j]!=0:\n",
    "            genre=Genre_ID_to_name[genre_list[j]]\n",
    "            pred_genres.append(genre)\n",
    "    predictionsnb.append(pred_genres)"
   ]
  },
  {
   "cell_type": "code",
   "execution_count": 156,
   "metadata": {},
   "outputs": [
    {
     "name": "stdout",
     "output_type": "stream",
     "text": [
      "MOVIE:  Mythica: The Godslayer \tPREDICTION:  Adventure,Fantasy,Drama,Romance\n",
      "MOVIE:  Terminator Genisys \tPREDICTION:  History,Documentary,War\n",
      "MOVIE:  Asterix: The Mansions of the Gods \tPREDICTION:  Drama,Comedy\n",
      "MOVIE:  The Garden of Words \tPREDICTION:  Drama,Horror,Comedy,Romance\n",
      "MOVIE:  Star Wars Rebels: Spark of Rebellion \tPREDICTION:  Drama,Comedy,Thriller,Crime,Romance\n",
      "MOVIE:  EuroTrip \tPREDICTION:  Drama\n"
     ]
    }
   ],
   "source": [
    "for i in range(X_test_tfidf.shape[0]):\n",
    "    if i%50==0 and i!=0:\n",
    "        print ('MOVIE: ',movies_with_overviews[i]['title'],'\\tPREDICTION: ',','.join(predictionsnb[i]))"
   ]
  },
  {
   "cell_type": "markdown",
   "metadata": {},
   "source": [
    "## Evaluation"
   ]
  },
  {
   "cell_type": "code",
   "execution_count": 40,
   "metadata": {},
   "outputs": [],
   "source": [
    "def movie_precision_recall(gt,preds):\n",
    "    TP=0\n",
    "    FP=0\n",
    "    FN=0\n",
    "    for t in gt:\n",
    "        if t in preds:\n",
    "            TP+=1\n",
    "        else:\n",
    "            FN+=1\n",
    "    for p in preds:\n",
    "        if p not in gt:\n",
    "            FP+=1\n",
    "    if TP+FP==0:\n",
    "        precision=0\n",
    "    else:\n",
    "        precision=TP/float(TP+FP)\n",
    "    if TP+FN==0:\n",
    "        recall=0\n",
    "    else:\n",
    "        recall=TP/float(TP+FN)\n",
    "    return precision,recall"
   ]
  },
  {
   "cell_type": "code",
   "execution_count": 158,
   "metadata": {},
   "outputs": [
    {
     "name": "stdout",
     "output_type": "stream",
     "text": [
      "0.462406386887 0.525618199802\n"
     ]
    }
   ],
   "source": [
    "precs=[]\n",
    "recs=[]\n",
    "for i in range(len(test_movies)):\n",
    "    if i%1==0:\n",
    "        pos=test_movies[i]\n",
    "        test_movie=movies_with_overviews[pos]\n",
    "        gtids=test_movie['genre_ids']\n",
    "        gt=[]\n",
    "        for g in gtids:\n",
    "            g_name=Genre_ID_to_name[g]\n",
    "            gt.append(g_name)\n",
    "#         print predictions[i],movies_with_overviews[i]['title'],gt\n",
    "        a,b=precision_recall(gt,movie_predictions[i])\n",
    "        precs.append(a)\n",
    "        recs.append(b)\n",
    "\n",
    "print (np.mean(np.asarray(precs)),np.mean(np.asarray(recs)))"
   ]
  },
  {
   "cell_type": "code",
   "execution_count": 159,
   "metadata": {},
   "outputs": [
    {
     "name": "stdout",
     "output_type": "stream",
     "text": [
      "0.498353822241 0.541790306627\n"
     ]
    }
   ],
   "source": [
    "precs=[]\n",
    "recs=[]\n",
    "for i in range(len(test_movies)):\n",
    "    if i%1==0:\n",
    "        pos=test_movies[i]\n",
    "        test_movie=movies_with_overviews[pos]\n",
    "        gtids=test_movie['genre_ids']\n",
    "        gt=[]\n",
    "        for g in gtids:\n",
    "            g_name=Genre_ID_to_name[g]\n",
    "            gt.append(g_name)\n",
    "#         print predictions[i],movies_with_overviews[i]['title'],gt\n",
    "        a,b=precision_recall(gt,predictionsnb[i])\n",
    "        precs.append(a)\n",
    "        recs.append(b)\n",
    "\n",
    "print (np.mean(np.asarray(precs)),np.mean(np.asarray(recs)))\n"
   ]
  },
  {
   "cell_type": "markdown",
   "metadata": {
    "collapsed": true
   },
   "source": [
    "### Applying Deep Learning on Movie Posters"
   ]
  },
  {
   "cell_type": "code",
   "execution_count": 4,
   "metadata": {},
   "outputs": [
    {
     "name": "stdout",
     "output_type": "stream",
     "text": [
      "C:\\Users\\Admin\\Desktop\\Advance Data Science & Architecture\\Progress_Report\n"
     ]
    }
   ],
   "source": [
    "import os;\n",
    "print(os.getcwd()); "
   ]
  },
  {
   "cell_type": "code",
   "execution_count": 5,
   "metadata": {},
   "outputs": [],
   "source": [
    "os.chdir('C:\\\\Users\\Admin\\Desktop\\Advance Data Science & Architecture\\Projectdata')"
   ]
  },
  {
   "cell_type": "code",
   "execution_count": 7,
   "metadata": {},
   "outputs": [],
   "source": [
    "import pickle"
   ]
  },
  {
   "cell_type": "code",
   "execution_count": 8,
   "metadata": {},
   "outputs": [],
   "source": [
    "posters = 'posters_final/'"
   ]
  },
  {
   "cell_type": "code",
   "execution_count": 9,
   "metadata": {},
   "outputs": [],
   "source": [
    "f=open('poster_movies.pckl','rb')\n",
    "poster_movies=pickle.load(f)\n",
    "f.close()"
   ]
  },
  {
   "cell_type": "code",
   "execution_count": 10,
   "metadata": {},
   "outputs": [
    {
     "name": "stderr",
     "output_type": "stream",
     "text": [
      "C:\\Users\\Admin\\Anaconda3\\lib\\site-packages\\h5py\\__init__.py:36: FutureWarning: Conversion of the second argument of issubdtype from `float` to `np.floating` is deprecated. In future, it will be treated as `np.float64 == np.dtype(float).type`.\n",
      "  from ._conv import register_converters as _register_converters\n",
      "Using TensorFlow backend.\n"
     ]
    }
   ],
   "source": [
    "from keras.applications.vgg16 import VGG16\n",
    "from keras.preprocessing import image\n",
    "from keras.applications.vgg16 import preprocess_input\n",
    "import numpy as np\n",
    "import pickle\n",
    "model = VGG16(weights='imagenet', include_top=False)"
   ]
  },
  {
   "cell_type": "code",
   "execution_count": 11,
   "metadata": {},
   "outputs": [
    {
     "name": "stdout",
     "output_type": "stream",
     "text": [
      "Starting extracting VGG features for scraped images. This will take time, Please be patient...\n",
      "Total images =  1652\n",
      "Working on Image :  1\n",
      "Working on Image :  250\n",
      "Working on Image :  500\n",
      "Working on Image :  1000\n",
      "Working on Image :  1250\n",
      "Working on Image :  1500\n",
      "Done with all features, please pickle for future use!\n"
     ]
    }
   ],
   "source": [
    "allnames=os.listdir(posters)\n",
    "imnames=[j for j in allnames]\n",
    "feature_list=[]\n",
    "genre_list=[]\n",
    "file_order=[]\n",
    "print (\"Starting extracting VGG features for scraped images. This will take time, Please be patient...\")\n",
    "print (\"Total images = \",len(imnames))\n",
    "failed_files=[]\n",
    "succesful_files=[]\n",
    "i=0\n",
    "for mov in poster_movies:\n",
    "    i+=1\n",
    "    mov_name=mov['original_title']\n",
    "    mov_name1=mov_name.replace(':','/')\n",
    "    poster_name=mov_name.replace(' ','_')\n",
    "    if poster_name in imnames:\n",
    "        img_path=posters+poster_name\n",
    "        try:\n",
    "            img = image.load_img(img_path, target_size=(224, 224))\n",
    "            succesful_files.append(imnames)\n",
    "            x = image.img_to_array(img)\n",
    "            x = np.expand_dims(x, axis=0)\n",
    "            x = preprocess_input(x)\n",
    "            features = model.predict(x)\n",
    "            file_order.append(img_path)\n",
    "            feature_list.append(features)\n",
    "            genre_list.append(mov['genre_ids'])\n",
    "            if np.max(np.asarray(feature_list))==0.0:\n",
    "                print('problematic',i)\n",
    "            if i%250==0 or i==1:\n",
    "                print (\"Working on Image : \",i)\n",
    "        except:\n",
    "            failed_files.append(imnames)\n",
    "            continue\n",
    "        \n",
    "    else:\n",
    "        continue\n",
    "print (\"Done with all features, please pickle for future use!\")"
   ]
  },
  {
   "cell_type": "code",
   "execution_count": 12,
   "metadata": {},
   "outputs": [
    {
     "data": {
      "text/plain": [
       "1348"
      ]
     },
     "execution_count": 12,
     "metadata": {},
     "output_type": "execute_result"
    }
   ],
   "source": [
    "len(genre_list)\n",
    "\n",
    "len(feature_list)"
   ]
  },
  {
   "cell_type": "code",
   "execution_count": 13,
   "metadata": {},
   "outputs": [
    {
     "name": "stdout",
     "output_type": "stream",
     "text": [
      "Features dumped to pickle file\n"
     ]
    }
   ],
   "source": [
    "# Reading from pickle below, this code is not to be run.\n",
    "movie_list_pickled=(feature_list,file_order,failed_files,succesful_files,genre_list)\n",
    "f=open('posters_new_features.pckl','wb')\n",
    "pickle.dump(movie_list_pickled,f)\n",
    "f.close()\n",
    "print(\"Features dumped to pickle file\")"
   ]
  },
  {
   "cell_type": "code",
   "execution_count": 14,
   "metadata": {},
   "outputs": [],
   "source": [
    "f7=open('posters_new_features.pckl','rb')\n",
    "list_pickled=pickle.load(f7)\n",
    "f7.close()"
   ]
  },
  {
   "cell_type": "code",
   "execution_count": 15,
   "metadata": {},
   "outputs": [],
   "source": [
    "(feature_list,files,failed,succesful,genre_list)=movie_list_pickled"
   ]
  },
  {
   "cell_type": "code",
   "execution_count": 16,
   "metadata": {},
   "outputs": [],
   "source": [
    "(a,b,c,d)=feature_list[0].shape\n",
    "feature_size=a*b*c*d"
   ]
  },
  {
   "cell_type": "code",
   "execution_count": 17,
   "metadata": {},
   "outputs": [],
   "source": [
    "np_features=np.zeros((len(feature_list),feature_size))\n",
    "for i in range(len(feature_list)):\n",
    "    feat=feature_list[i]\n",
    "    reshaped_feat=feat.reshape(1,-1)\n",
    "    np_features[i]=reshaped_feat"
   ]
  },
  {
   "cell_type": "code",
   "execution_count": 18,
   "metadata": {},
   "outputs": [],
   "source": [
    "X=np_features"
   ]
  },
  {
   "cell_type": "code",
   "execution_count": 19,
   "metadata": {},
   "outputs": [
    {
     "data": {
      "text/plain": [
       "(1348, 20)"
      ]
     },
     "execution_count": 19,
     "metadata": {},
     "output_type": "execute_result"
    }
   ],
   "source": [
    "from sklearn.preprocessing import MultiLabelBinarizer\n",
    "mlb=MultiLabelBinarizer()\n",
    "Y=mlb.fit_transform(genre_list)\n",
    "\n",
    "Y.shape"
   ]
  },
  {
   "cell_type": "code",
   "execution_count": 20,
   "metadata": {},
   "outputs": [],
   "source": [
    "visual_problem_data=(X,Y)\n",
    "f8=open('visual_problem_data_clean.pckl','wb')\n",
    "pickle.dump(visual_problem_data,f8)\n",
    "f8.close()"
   ]
  },
  {
   "cell_type": "code",
   "execution_count": 21,
   "metadata": {},
   "outputs": [],
   "source": [
    "f8=open('visual_problem_data_clean.pckl','rb')\n",
    "visual_features=pickle.load(f8)\n",
    "f8.close()"
   ]
  },
  {
   "cell_type": "code",
   "execution_count": 22,
   "metadata": {},
   "outputs": [],
   "source": [
    "(X,Y)=visual_features"
   ]
  },
  {
   "cell_type": "code",
   "execution_count": 23,
   "metadata": {},
   "outputs": [
    {
     "data": {
      "text/plain": [
       "(1348, 25088)"
      ]
     },
     "execution_count": 23,
     "metadata": {},
     "output_type": "execute_result"
    }
   ],
   "source": [
    "X.shape"
   ]
  },
  {
   "cell_type": "code",
   "execution_count": 24,
   "metadata": {},
   "outputs": [],
   "source": [
    "mask = np.random.rand(len(X)) < 0.8"
   ]
  },
  {
   "cell_type": "code",
   "execution_count": 25,
   "metadata": {},
   "outputs": [],
   "source": [
    "X_train=X[mask]\n",
    "X_test=X[~mask]\n",
    "Y_train=Y[mask]\n",
    "Y_test=Y[~mask]"
   ]
  },
  {
   "cell_type": "code",
   "execution_count": 26,
   "metadata": {},
   "outputs": [
    {
     "data": {
      "text/plain": [
       "(255, 25088)"
      ]
     },
     "execution_count": 26,
     "metadata": {},
     "output_type": "execute_result"
    }
   ],
   "source": [
    "X_test.shape"
   ]
  },
  {
   "cell_type": "code",
   "execution_count": null,
   "metadata": {},
   "outputs": [],
   "source": [
    "###Activation Function"
   ]
  },
  {
   "cell_type": "code",
   "execution_count": 27,
   "metadata": {},
   "outputs": [],
   "source": [
    "from keras.models import Sequential\n",
    "from keras.layers import Dense, Activation\n",
    "from keras import optimizers"
   ]
  },
  {
   "cell_type": "code",
   "execution_count": 28,
   "metadata": {},
   "outputs": [],
   "source": [
    "model_visual = Sequential([\n",
    "    Dense(1024, input_shape=(25088,)),\n",
    "    Activation('relu'),\n",
    "    Dense(256),\n",
    "    Activation('relu'),\n",
    "    Dense(20),\n",
    "    Activation('sigmoid'),\n",
    "])\n",
    "opt = optimizers.rmsprop(lr=0.0001, decay=1e-6)\n"
   ]
  },
  {
   "cell_type": "code",
   "execution_count": 30,
   "metadata": {},
   "outputs": [],
   "source": [
    "#sgd = optimizers.SGD(lr=0.05, decay=1e-6, momentum=0.4, nesterov=False)\n",
    "model_visual.compile(optimizer=opt,\n",
    "              loss='binary_crossentropy',\n",
    "              metrics=['accuracy'])"
   ]
  },
  {
   "cell_type": "code",
   "execution_count": 31,
   "metadata": {},
   "outputs": [
    {
     "name": "stdout",
     "output_type": "stream",
     "text": [
      "WARNING:tensorflow:Variable *= will be deprecated. Use variable.assign_mul if you want assignment to the variable value or 'x = x * y' if you want a new python Tensor object.\n",
      "Epoch 1/10\n",
      "1093/1093 [==============================] - 17s 16ms/step - loss: 2.2901 - acc: 0.8218\n",
      "Epoch 2/10\n",
      "1093/1093 [==============================] - 13s 12ms/step - loss: 1.5598 - acc: 0.8668\n",
      "Epoch 3/10\n",
      "1093/1093 [==============================] - 13s 12ms/step - loss: 0.9468 - acc: 0.9001\n",
      "Epoch 4/10\n",
      "1093/1093 [==============================] - 13s 12ms/step - loss: 0.4743 - acc: 0.9386\n",
      "Epoch 5/10\n",
      "1093/1093 [==============================] - 13s 12ms/step - loss: 0.2327 - acc: 0.9695\n",
      "Epoch 6/10\n",
      "1093/1093 [==============================] - 13s 12ms/step - loss: 0.1474 - acc: 0.9842\n",
      "Epoch 7/10\n",
      "1093/1093 [==============================] - 13s 12ms/step - loss: 0.1254 - acc: 0.9874\n",
      "Epoch 8/10\n",
      "1093/1093 [==============================] - 13s 12ms/step - loss: 0.1156 - acc: 0.9882\n",
      "Epoch 9/10\n",
      "1093/1093 [==============================] - 13s 12ms/step - loss: 0.1029 - acc: 0.9906\n",
      "Epoch 10/10\n",
      "1093/1093 [==============================] - 14s 13ms/step - loss: 0.1100 - acc: 0.9896\n"
     ]
    },
    {
     "data": {
      "text/plain": [
       "<keras.callbacks.History at 0x2253023e240>"
      ]
     },
     "execution_count": 31,
     "metadata": {},
     "output_type": "execute_result"
    }
   ],
   "source": [
    "model_visual.fit(X_train, Y_train, epochs=10, batch_size=64,verbose=1)"
   ]
  },
  {
   "cell_type": "code",
   "execution_count": 32,
   "metadata": {},
   "outputs": [
    {
     "data": {
      "text/plain": [
       "<keras.callbacks.History at 0x2253023e2e8>"
      ]
     },
     "execution_count": 32,
     "metadata": {},
     "output_type": "execute_result"
    }
   ],
   "source": [
    "model_visual.fit(X_train, Y_train, epochs=50, batch_size=64,verbose=0)"
   ]
  },
  {
   "cell_type": "code",
   "execution_count": 33,
   "metadata": {},
   "outputs": [],
   "source": [
    "Y_preds=model_visual.predict(X_test)"
   ]
  },
  {
   "cell_type": "code",
   "execution_count": 34,
   "metadata": {},
   "outputs": [
    {
     "data": {
      "text/plain": [
       "436.87544748611253"
      ]
     },
     "execution_count": 34,
     "metadata": {},
     "output_type": "execute_result"
    }
   ],
   "source": [
    "sum(sum(Y_preds))"
   ]
  },
  {
   "cell_type": "code",
   "execution_count": 35,
   "metadata": {},
   "outputs": [],
   "source": [
    "f6=open('Genredict.pckl','rb')\n",
    "Genre_ID_to_name=pickle.load(f6)\n",
    "f6.close()"
   ]
  },
  {
   "cell_type": "code",
   "execution_count": 36,
   "metadata": {},
   "outputs": [
    {
     "data": {
      "text/plain": [
       "1.0023755041719091"
      ]
     },
     "execution_count": 36,
     "metadata": {},
     "output_type": "execute_result"
    }
   ],
   "source": [
    "sum(Y_preds[1])"
   ]
  },
  {
   "cell_type": "code",
   "execution_count": 37,
   "metadata": {},
   "outputs": [
    {
     "data": {
      "text/plain": [
       "0.968328666690122"
      ]
     },
     "execution_count": 37,
     "metadata": {},
     "output_type": "execute_result"
    }
   ],
   "source": [
    "sum(Y_preds[2])"
   ]
  },
  {
   "cell_type": "code",
   "execution_count": 38,
   "metadata": {},
   "outputs": [],
   "source": [
    "genre_list=sorted(list(Genre_ID_to_name.keys()))"
   ]
  },
  {
   "cell_type": "code",
   "execution_count": 41,
   "metadata": {},
   "outputs": [
    {
     "name": "stdout",
     "output_type": "stream",
     "text": [
      "Predicted:  Adventure,Action,Thriller  Actual:  Adventure,Action,Science Fiction\n",
      "Predicted:  Drama,Comedy,Thriller  Actual:  Adventure,Animation,Comedy,Family\n",
      "Predicted:  Drama,Thriller,Action  Actual:  Drama,Action,Thriller,Crime,Science Fiction\n",
      "Predicted:  History,Action,Thriller  Actual:  Drama,Horror,Thriller,Mystery\n",
      "Predicted:  Crime,Drama,Thriller  Actual:  Drama,Thriller,Crime,Romance\n",
      "Predicted:  Crime,Thriller,Drama  Actual:  Drama,History,War\n",
      "0.4418300653594772 0.46052287581699347\n"
     ]
    }
   ],
   "source": [
    "precs=[]\n",
    "recs=[]\n",
    "for i in range(len(Y_preds)):\n",
    "    row=Y_preds[i]\n",
    "    gt_genres=Y_test[i]\n",
    "    gt_genre_names=[]\n",
    "    for j in range(20):\n",
    "        if gt_genres[j]==1:\n",
    "            gt_genre_names.append(Genre_ID_to_name[genre_list[j]])\n",
    "    top_3=np.argsort(row)[-3:]\n",
    "    predicted_genres=[]\n",
    "    for genre in top_3:\n",
    "        predicted_genres.append(Genre_ID_to_name[genre_list[genre]])\n",
    "    (precision,recall)=movie_precision_recall(gt_genre_names,predicted_genres)\n",
    "    precs.append(precision)\n",
    "    recs.append(recall)\n",
    "    if i%50==0:\n",
    "        print (\"Predicted: \",','.join(predicted_genres),\" Actual: \",','.join(gt_genre_names))\n",
    "\n",
    "print(np.mean(np.asarray(precs)),np.mean(np.asarray(recs)))"
   ]
  },
  {
   "cell_type": "code",
   "execution_count": 42,
   "metadata": {},
   "outputs": [
    {
     "name": "stdout",
     "output_type": "stream",
     "text": [
      "0.4418300653594772 0.46052287581699347\n"
     ]
    }
   ],
   "source": [
    "print(np.mean(np.asarray(precs)),np.mean(np.asarray(recs)))"
   ]
  },
  {
   "cell_type": "code",
   "execution_count": null,
   "metadata": {},
   "outputs": [],
   "source": []
  }
 ],
 "metadata": {
  "kernelspec": {
   "display_name": "Python 3",
   "language": "python",
   "name": "python3"
  },
  "language_info": {
   "codemirror_mode": {
    "name": "ipython",
    "version": 3
   },
   "file_extension": ".py",
   "mimetype": "text/x-python",
   "name": "python",
   "nbconvert_exporter": "python",
   "pygments_lexer": "ipython3",
   "version": "3.6.4"
  }
 },
 "nbformat": 4,
 "nbformat_minor": 2
}
